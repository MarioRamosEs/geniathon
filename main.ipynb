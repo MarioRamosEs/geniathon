{
 "cells": [
  {
   "cell_type": "markdown",
   "metadata": {},
   "source": [
    "# Prompts"
   ]
  },
  {
   "cell_type": "code",
   "execution_count": null,
   "metadata": {},
   "outputs": [],
   "source": [
    "prompt_analisis = \"\"\"Actúa como un experto analista de proyectos de innovación. NO INVENTES lo que no existe en el documento. ASIGNA SIEMPRE A CERO sobre lo que no encuentres los datos.\n",
    " \n",
    "Los criterios en las que tiene que tener encaje el proyecto propuesto son:\n",
    "Criterio2-Desarrollo técnico de la propuesta\n",
    "Los criterios de madurez tecnológica de Enagas son:\n",
    "Nos interesan tecnologías con TRL (Technology Readiness Levels ) superior o igual a 4.\n",
    "Para determinar en qué TRL se encuentra una tecnología se realiza una Evaluación de Madurez Tecnológica de la misma, en la que se examinan varios elementos como los conceptos del programa, capacidades y requisitos tecnológicos.\n",
    "El TRL de cada tecnología se determina teniendo en cuenta una escala del 1 al 9, donde 9 es la tecnología más madura, es decir, que está preparada para salir al mercado y comercializarse.\n",
    "Los 9 niveles de los TRL:\n",
    "TRL 1: Principios básicos observados y reportados\n",
    "TRL 2: Concepto y/o aplicación tecnológica formulada\n",
    "TRL 3: Función crítica analítica y experimental y/o prueba de concepto característica\n",
    "TRL 4: Validación de componente y/o disposición de los mismos en un entorno de laboratorio\n",
    "TRL 5: Validación de componente y/o disposición de los mismos en un entorno relevante\n",
    "TRL 6: Modelo de sistema o subsistema o demostración de prototipo en un entorno relevante\n",
    "TRL 7: Demostración de sistema o prototipo en un entorno real\n",
    "TRL 8: Sistema completo y certificado a través de pruebas y demostraciones\n",
    "TRL 9: Sistema aprobado con éxito en entorno real\n",
    " \n",
    "El resultado de valorar este criterio debe ser el número que acompaña a TRL. Ejemplo TRL 1, es un resultado de 1. Si no hay un TRL asignado, asigna un \"0\".\n",
    " \n",
    "Criterio 3-Oportunidad de mercado.\n",
    "Evaluar es si se define el mercado potencial que cubre el proyecto si se explica quienes serán los primeros clientes o primeros pilotos y si existe un análisis de competencia o soluciones alternativas asi como el tamaño de mercado.\n",
    "Siendo las puntuaciones a asignar de la siguiente manera:\n",
    "0 Puntos: Si no tiene desarrollado el mercado .\n",
    "1-3. Si tiene explicado el mercado entre nacional e internacional dado que para una start up es más fácil alcanzar el mercado nacional.\n",
    "3-5 puntos . Si tiene explicado el mercado entre nacional e internacional y el mercado nacional esta segmentado por tipos de clientes o explicado los primeros clientes o primeros pilotos.\n",
    "5-7 puntos . Si tiene explicado el mercado entre nacional e internacional y el mercado nacional esta segmentado por tipos de clientes o explicado los primeros clientes o primeros pilotos y el mercado nacional es de un tamaño superior a 50M€ y tiene análisis de competidores o soluciones alternativas.\n",
    "7-10 puntos . Si tiene explicado el mercado entre nacional e internacional y el mercado nacional esta segmentado por tipos de clientes o explicado los primeros clientes o primeros pilotos y el mercado nacional es de un tamaño superior a 100M€ y tiene análisis de competidores o soluciones alternativas.\n",
    " \n",
    "Criterio 4-Experiencia y potencial rendimiento del equipo .\n",
    "considera para evaluar este criterio que eres un experto consultor de RRHH.\n",
    "Evaluar la capacidad y la experiencia de los miembros del equipo (sólo personas concretas, con nombres y apellidos, no incluir socios o inversores) en función de sus capacidades y formación técnica acorde a la solución desarrollada, experiencia laboral, experiencia emprendedora.\n",
    "0 Puntos: Sin explicar o no detallado\n",
    "0-3. Puntos: Con formación acorde\n",
    "3-5 Puntos: Con formación acorde y experiencia laboral,\n",
    "5-7 Puntos: Con formación acorde y experiencia laboral y capacidades demostradas,\n",
    "7-10 Puntos: Con formación acorde y experiencia laboral, capacidades demostradas y experiencia previa emprendedora.\n",
    " \n",
    "Criterio 5-Análisis de riesgos e impactos económicos.\n",
    "Aquí lo que queremos evaluar es si se ha detallado la propuesta de valor y ventaja competitiva de la tecnología o de la empresa, asi como si se ha explicado y detallado las ventajas e inconvenientes y beneficios económicos que aporta la solución asi como el encaje con Enagas.\n",
    "¿Qué es la propuesta de valor?\n",
    "La propuesta de valor de un proyecto es lo que hace que ese proyecto sea especial, diferente y único. Es más que una simple descripción del producto o servicio: es la solución específica que tu empresa brinda a un cliente, y que un competidor no puede ofrecer. Tu propuesta de valor es un identificador único para tu negocio.\n",
    "Debe profundizar en los problemas que deseas resolver para los compradores y lo que hace que tu producto o servicio sea la solución perfecta.\n",
    " \n",
    "La puntación a asignar es:\n",
    "0 puntos: No detallado\n",
    "1-3 Puntos: Presenta la propuesta de valor y ventaja competitiva\n",
    "3-5 Puntos: Presenta la propuesta de valor y ventaja competitiva, así como las ventajas e inconvenientes\n",
    "5-7 Puntos: Presenta la propuesta de valor y ventaja competitiva, así como las ventajas e inconvenientes y beneficios económicos que aporta la solución frente a otras tecnologías\n",
    "7-10 Puntos: Presenta la propuesta de valor y ventaja competitiva, así como las ventajas e inconvenientes y beneficios económicos que aporta la solución frente a otras tecnologías y una posible propuesta o encaje con Enagas.\n",
    " \n",
    "Criterio 6-Estado de madurez de la startup\n",
    "Resumen de las fases de desarrollo de una startup y su correspondiente nivel de madurez:\n",
    "Etapa Pre-Seed: 1 Punto. Esta es la etapa de la idea, cuando aún no existe ni un producto mínimo viable ni un modelo de negocio validado. En esta etapa, los emprendedores deben asumir los primeros costes de la puesta en marcha.\n",
    "Etapa Seed: 2 Punto. Esta es una de las etapas más críticas en el ciclo de vida de una startup2. En esta fase, la startup debe tener un producto y necesita validar el modelo de negocio y empezar a funcionar.\n",
    "Etapa de Crecimiento (Growth Stage): 3 Punto. Esta etapa llega cuando la startup ya tiene un producto con su product-market-fit, clientes recurrentes de pago y métricas positivas, además de una estrategia de crecimiento definida.\n",
    "En caso de no encontrar este criterio en la propuesta asignar un \"0\".\n",
    " \n",
    "Construye el resultado a nivel de criterio. en formato tabla y con las columnas: criterio, resultado, explicación de en qué datos te basas para dar el resultado,\n",
    "Los campos \"resultado\" y \"explicación\" no deben exceder los 250 caracteres.\n",
    " \n",
    "Tono profesional.\"\"\""
   ]
  },
  {
   "cell_type": "markdown",
   "metadata": {},
   "source": [
    "# Código"
   ]
  },
  {
   "cell_type": "code",
   "execution_count": null,
   "metadata": {},
   "outputs": [],
   "source": [
    "%pip install openai\n",
    "%pip install PyPDF2\n",
    "%pip install openpyxl"
   ]
  },
  {
   "cell_type": "code",
   "execution_count": null,
   "metadata": {},
   "outputs": [],
   "source": [
    "import json\n",
    "import os  \n",
    "\n",
    "from openai import AzureOpenAI\n",
    "from PyPDF2 import PdfReader\n",
    "from openpyxl import Workbook  "
   ]
  },
  {
   "cell_type": "code",
   "execution_count": null,
   "metadata": {},
   "outputs": [],
   "source": [
    "COMPLETIONS_MODEL = \"GPT4-1106\"\n",
    "\n",
    "client = AzureOpenAI(\n",
    "    azure_endpoint=\"https://nuevayorkopenaiservice.openai.azure.com/\",\n",
    "    api_key=\"77c21ef531224c41b2581310f11e4aea\",\n",
    "    api_version=\"2023-12-01-preview\",\n",
    ")"
   ]
  },
  {
   "cell_type": "code",
   "execution_count": null,
   "metadata": {},
   "outputs": [],
   "source": [
    "class Opportunity:  \n",
    "    def __init__(self, title, content):  \n",
    "        self.title = title  \n",
    "        self.content = content  \n",
    "  \n",
    "def read_pdf_content(pdf_path): \n",
    "    reader = PdfReader(pdf_path) \n",
    "    text = \"\"  \n",
    "    for page in reader.pages:  \n",
    "        text += page.extract_text()\n",
    "    return text  \n",
    "  \n",
    "def get_opportunities_from_directory(directory_path):  \n",
    "    opportunities = []  \n",
    "      \n",
    "    for filename in os.listdir(directory_path):  \n",
    "        if filename.endswith('.pdf'):  \n",
    "            file_path = os.path.join(directory_path, filename)  \n",
    "            content = read_pdf_content(file_path)  \n",
    "            title = os.path.splitext(filename)[0]  \n",
    "            opportunity = Opportunity(title, content)  \n",
    "            opportunities.append(opportunity)  \n",
    "      \n",
    "    return opportunities  \n",
    "  \n",
    "# Uso de la función en un directorio específico  \n",
    "directory_path = 'pdfs'  # Reemplaza con la ruta de tu directorio  \n",
    "opportunities = get_opportunities_from_directory(directory_path)  \n",
    "  \n",
    "# Ahora tienes una lista de objetos Opportunity con títulos y contenidos  \n",
    "for opp in opportunities:  \n",
    "    print(f'Título: {opp.title}\\nContenido: {opp.content[:100]}...')  # Muestra los primeros 100 caracteres  "
   ]
  },
  {
   "cell_type": "code",
   "execution_count": 6,
   "metadata": {},
   "outputs": [],
   "source": [
    "def run_evaluation(opportunity):\n",
    "    # Step 1: send the conversation and available functions to the model\n",
    "    messages = [\n",
    "        { \"role\": \"system\", \"content\": prompt_analisis },\n",
    "        { \"role\": \"user\", \"content\": opportunity.content },\n",
    "    ]\n",
    "    tools = [\n",
    "        {\n",
    "            \"type\": \"function\",\n",
    "            \"function\": {\n",
    "                \"name\": \"get_evaluation\",\n",
    "                \"description\": \"Get the evaluation\",\n",
    "                \"parameters\": {\n",
    "                    \"type\": \"object\",\n",
    "                    \"properties\": {\n",
    "                        \"evaluation_score\": {\n",
    "                            \"type\": \"integer\",\n",
    "                            \"description\": \"Score\",\n",
    "                        },\n",
    "                        \"reasoning\": {\n",
    "                            \"type\": \"string\",\n",
    "                            \"description\": \"A reasoning of how the answer was created\"},\n",
    "                        },\n",
    "                        \"description\": {\n",
    "                            \"type\": \"string\",\n",
    "                            \"description\": \"Brief summary of no more than 50 words\",\n",
    "                        },\n",
    "                        \"investment\": {\n",
    "                            \"type\": \"float\",\n",
    "                            \"description\": \"Amount of money to invest (€)\",\n",
    "                        },\n",
    "                        \"trl\": {\n",
    "                            \"type\": \"integer\",\n",
    "                            \"description\": \"Technology Readiness Levels\",\n",
    "                        },\n",
    "                    \"required\": [\"evaluation_score\"],\n",
    "                },\n",
    "            },\n",
    "        }\n",
    "    ]\n",
    "\n",
    "    response = client.chat.completions.create(\n",
    "        model=COMPLETIONS_MODEL,\n",
    "        messages=messages,\n",
    "        tools=tools,\n",
    "        tool_choice={\"type\": \"function\", \"function\": {\"name\": \"get_evaluation\"}},\n",
    "    )\n",
    "    response_message = response.choices[0].message\n",
    "    tool_calls = response_message.tool_calls\n",
    "\n",
    "    if tool_calls:\n",
    "        json_str = tool_calls[0].function.arguments\n",
    "        dict_args = json.loads(json_str)\n",
    "        evaluation_score = dict_args['evaluation_score']\n",
    "        reasoning = dict_args['reasoning']\n",
    "        opportunity.evaluation_score = evaluation_score\n",
    "        opportunity.reasoning = reasoning\n",
    "\n",
    "    return response_message"
   ]
  },
  {
   "cell_type": "markdown",
   "metadata": {},
   "source": [
    "## Iterate opportunities"
   ]
  },
  {
   "cell_type": "code",
   "execution_count": null,
   "metadata": {},
   "outputs": [],
   "source": [
    "for opp in opportunities:\n",
    "    run_evaluation(opp)\n",
    "    print(f'Título: {opp.title}\\nContenido: {opp.content[:100]}...\\nScore: {opp.evaluation_score}\\nReasoning: {opp.reasoning}')  # Muestra los primeros 100 caracteres"
   ]
  },
  {
   "cell_type": "markdown",
   "metadata": {},
   "source": [
    "## Guardar resultados en xlsx"
   ]
  },
  {
   "cell_type": "code",
   "execution_count": null,
   "metadata": {},
   "outputs": [],
   "source": [
    "def save_opportunities_to_excel(opportunities, excel_path):  \n",
    "    # Crear un nuevo libro de trabajo de Excel  \n",
    "    wb = Workbook()  \n",
    "    ws = wb.active  \n",
    "      \n",
    "    # Agregar los encabezados de las columnas  \n",
    "    ws.append(['Título', 'Contenido', 'Puntuación', 'Razonamiento', 'Descripción', 'Inversión', 'TRL'])\n",
    "      \n",
    "    # Agregar las oportunidades al libro de trabajo  \n",
    "    for opp in opportunities:  \n",
    "        ws.append([opp.title, opp.content, opp.evaluation_score, opp.reasoning, opp.description, opp.investment, opp.trl]) \n",
    "      \n",
    "    # Guardar el libro de trabajo en un archivo  \n",
    "    wb.save(excel_path)  \n",
    "  \n",
    "# Suponiendo que `opportunities` es la lista de objetos Opportunity que obtuviste anteriormente  \n",
    "excel_path = 'resultados.xlsx'  # Reemplaza con la ruta de tu archivo deseado  \n",
    "save_opportunities_to_excel(opportunities, excel_path)"
   ]
  }
 ],
 "metadata": {
  "kernelspec": {
   "display_name": "Python 3",
   "language": "python",
   "name": "python3"
  },
  "language_info": {
   "codemirror_mode": {
    "name": "ipython",
    "version": 3
   },
   "file_extension": ".py",
   "mimetype": "text/x-python",
   "name": "python",
   "nbconvert_exporter": "python",
   "pygments_lexer": "ipython3",
   "version": "3.10.13"
  }
 },
 "nbformat": 4,
 "nbformat_minor": 2
}
