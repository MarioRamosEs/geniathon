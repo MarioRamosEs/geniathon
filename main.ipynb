{
 "cells": [
  {
   "cell_type": "code",
   "execution_count": null,
   "metadata": {},
   "outputs": [],
   "source": [
    "%pip install openai\n",
    "%pip install PyPDF2"
   ]
  },
  {
   "cell_type": "code",
   "execution_count": 5,
   "metadata": {},
   "outputs": [],
   "source": [
    "import json\n",
    "import os  \n",
    "\n",
    "from openai import AzureOpenAI\n",
    "from PyPDF2 import PdfReader"
   ]
  },
  {
   "cell_type": "code",
   "execution_count": 6,
   "metadata": {},
   "outputs": [],
   "source": [
    "COMPLETIONS_MODEL = \"GPT4-1106\"\n",
    "\n",
    "client = AzureOpenAI(\n",
    "    azure_endpoint=\"https://nuevayorkopenaiservice.openai.azure.com/\",\n",
    "    api_key=\"77c21ef531224c41b2581310f11e4aea\",\n",
    "    api_version=\"2023-12-01-preview\",\n",
    ")"
   ]
  },
  {
   "cell_type": "code",
   "execution_count": 7,
   "metadata": {},
   "outputs": [
    {
     "name": "stdout",
     "output_type": "stream",
     "text": [
      "Título: ZEROeGLOBAL_ENAGÁS_20230718\n",
      "Contenido: info@zeroeglobal.comPresentación a ENAGÁS -18 de Julio 2023\n",
      "ZEROeGLOBAL  Solutions\n",
      "Producción amonia...\n"
     ]
    }
   ],
   "source": [
    "class Opportunity:  \n",
    "    def __init__(self, title, content):  \n",
    "        self.title = title  \n",
    "        self.content = content  \n",
    "  \n",
    "def read_pdf_content(pdf_path): \n",
    "    reader = PdfReader(pdf_path) \n",
    "    text = \"\"  \n",
    "    for page in reader.pages:  \n",
    "        text += page.extract_text()\n",
    "    return text  \n",
    "  \n",
    "def get_opportunities_from_directory(directory_path):  \n",
    "    opportunities = []  \n",
    "      \n",
    "    for filename in os.listdir(directory_path):  \n",
    "        if filename.endswith('.pdf'):  \n",
    "            file_path = os.path.join(directory_path, filename)  \n",
    "            content = read_pdf_content(file_path)  \n",
    "            title = os.path.splitext(filename)[0]  \n",
    "            opportunity = Opportunity(title, content)  \n",
    "            opportunities.append(opportunity)  \n",
    "      \n",
    "    return opportunities  \n",
    "  \n",
    "# Uso de la función en un directorio específico  \n",
    "directory_path = 'pdfs'  # Reemplaza con la ruta de tu directorio  \n",
    "opportunities = get_opportunities_from_directory(directory_path)  \n",
    "  \n",
    "# Ahora tienes una lista de objetos Opportunity con títulos y contenidos  \n",
    "for opp in opportunities:  \n",
    "    print(f'Título: {opp.title}\\nContenido: {opp.content[:100]}...')  # Muestra los primeros 100 caracteres  "
   ]
  },
  {
   "cell_type": "code",
   "execution_count": null,
   "metadata": {},
   "outputs": [],
   "source": [
    "def run_conversation():\n",
    "    # Step 1: send the conversation and available functions to the model\n",
    "    messages = [{\"role\": \"system\", \"content\": \"Enagás es una empresa del sector energético\"},\n",
    "                {\"role\": \"user\", \"content\":\"¿Cuál es el sector de Enagás?\"}]\n",
    "    tools = [\n",
    "        {\n",
    "            \"type\": \"function\",\n",
    "            \"function\": {\n",
    "                \"name\": \"get_evaluation\",\n",
    "                \"description\": \"Get the evaluation\",\n",
    "                \"parameters\": {\n",
    "                    \"type\": \"object\",\n",
    "                    \"properties\": {\n",
    "                        \"evaluation_score\": {\n",
    "                            \"type\": \"integer\",\n",
    "                            \"description\": \"Score\",\n",
    "                        },\n",
    "                        \"reasoning\": {\n",
    "                            \"type\": \"string\",\n",
    "                            \"description\": \"A reasoning of how the answer was created\"},\n",
    "                        },\n",
    "                    \"required\": [\"evaluation_score\"],\n",
    "                },\n",
    "            },\n",
    "        }\n",
    "    ]\n",
    "\n",
    "    response = client.chat.completions.create(\n",
    "        model=COMPLETIONS_MODEL,\n",
    "        messages=messages,\n",
    "        tools=tools,\n",
    "        tool_choice={\"type\": \"function\", \"function\": {\"name\": \"get_evaluation\"}},\n",
    "    )\n",
    "    response_message = response.choices[0].message\n",
    "    tool_calls = response_message.tool_calls\n",
    "    print(tool_calls)\n",
    "    # Step 2: check if the model wanted to call a function\n",
    "    if tool_calls:\n",
    "        # Step 3: call the function\n",
    "        # Note: the JSON response may not always be valid; be sure to handle errors\n",
    "        json_str = tool_calls[0].function.arguments\n",
    "        dict_args = json.loads(json_str)\n",
    "        evaluation_score = dict_args['evaluation_score']\n",
    "        reasoning = dict_args['reasoning']\n",
    "        print(\"Evaluation score: \" + str(evaluation_score))\n",
    "        print(\"Reasoning: \" + reasoning)\n",
    "\n",
    "    return response_message"
   ]
  },
  {
   "cell_type": "code",
   "execution_count": null,
   "metadata": {},
   "outputs": [],
   "source": [
    "print(run_conversation())"
   ]
  }
 ],
 "metadata": {
  "kernelspec": {
   "display_name": "Python 3",
   "language": "python",
   "name": "python3"
  },
  "language_info": {
   "codemirror_mode": {
    "name": "ipython",
    "version": 3
   },
   "file_extension": ".py",
   "mimetype": "text/x-python",
   "name": "python",
   "nbconvert_exporter": "python",
   "pygments_lexer": "ipython3",
   "version": "3.11.5"
  }
 },
 "nbformat": 4,
 "nbformat_minor": 2
}
